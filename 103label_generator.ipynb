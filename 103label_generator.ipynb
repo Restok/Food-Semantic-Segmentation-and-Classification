{
 "cells": [
  {
   "cell_type": "code",
   "execution_count": 1,
   "metadata": {},
   "outputs": [
    {
     "name": "stdout",
     "output_type": "stream",
     "text": [
      "           food  Chewy(bread)  Watery(like soup)  \\\n",
      "0    background             0                  0   \n",
      "1         candy             0                  0   \n",
      "2      egg tart             0                  0   \n",
      "3  french fries             0                  0   \n",
      "4     chocolate             0                  0   \n",
      "\n",
      "   Crunchy(vegetables  not chips or fried food)  \\\n",
      "0                                             0   \n",
      "1                                             0   \n",
      "2                                             0   \n",
      "3                                             0   \n",
      "4                                             0   \n",
      "\n",
      "   Crispy(Fried food/chips/toast)  Soft(rice  noodles  bread)  \\\n",
      "0                               0                           0   \n",
      "1                               0                           0   \n",
      "2                               0                           0   \n",
      "3                               1                           0   \n",
      "4                               0                           0   \n",
      "\n",
      "   Tender(meat  shrimp  etc)  Creamy(pudding  thick soup  egg yolk)  \\\n",
      "0                          0                                      0   \n",
      "1                          0                                      0   \n",
      "2                          0                                      1   \n",
      "3                          0                                      0   \n",
      "4                          0                                      1   \n",
      "\n",
      "   Crumbly(Pie  tart  cookie)  Greens  ...  Milk/Butter/Cream  Yogurt  Cheese  \\\n",
      "0                           0       0  ...                  0       0       0   \n",
      "1                           0       0  ...                  0       0       0   \n",
      "2                           1       0  ...                  0       0       0   \n",
      "3                           0       0  ...                  0       0       0   \n",
      "4                           0       0  ...                  0       0       0   \n",
      "\n",
      "   Fruit  Grain  Vegetables  Dairy  Dessert  Sauce/Spread  Soup/Drink  \n",
      "0      0      0           0      0        0             0           0  \n",
      "1      0      0           0      0        1             0           0  \n",
      "2      0      0           0      0        1             0           0  \n",
      "3      0      0           1      0        0             0           0  \n",
      "4      0      0           0      0        1             0           0  \n",
      "\n",
      "[5 rows x 26 columns]\n",
      "['Chewy(bread)', 'Watery(like soup)', 'Crunchy(vegetables  not chips or fried food)', 'Crispy(Fried food/chips/toast)', 'Soft(rice  noodles  bread)', 'Tender(meat  shrimp  etc)', 'Creamy(pudding  thick soup  egg yolk)', 'Crumbly(Pie  tart  cookie)']\n"
     ]
    }
   ],
   "source": [
    "import imageio as imageio\n",
    "import glob\n",
    "import numpy as np\n",
    "import pandas as pd\n",
    "import os\n",
    "labelids = pd.read_csv(\"Nutrition5kClassification/complete_labels.csv\",sep=',')\n",
    "print(labelids.head())\n",
    "LABELS = [\"Chewy(bread)\",\"Watery(like soup)\",'Crunchy(vegetables  not chips or fried food)','Crispy(Fried food/chips/toast)','Soft(rice  noodles  bread)','Tender(meat  shrimp  etc)',\"Creamy(pudding  thick soup  egg yolk)\", \"Crumbly(Pie  tart  cookie)\"]\n",
    "print(LABELS)\n"
   ]
  },
  {
   "cell_type": "markdown",
   "metadata": {},
   "source": [
    "Generate labels from original foodseg103 segmentation masks"
   ]
  },
  {
   "cell_type": "code",
   "execution_count": 3,
   "metadata": {},
   "outputs": [],
   "source": [
    "labelsdict = {}\n",
    "# Get training images and generate labels\n",
    "for im_path in glob.glob(\"FoodSeg103/Images/ann_dir/train/*.png\"):\n",
    "    fileid = im_path.split(\"/\")[-1].split(\".\")[0] + \".jpg\"\n",
    "    im = imageio.imread(im_path)\n",
    "    im = np.unique(im).astype(int)\n",
    "    if(103 not in im):\n",
    "        labels = labelids.iloc[im][LABELS].to_numpy().squeeze().sum(axis=0)\n",
    "        labels[labels>0] = 1\n",
    "    labelsdict[fileid] = labels\n",
    "\n",
    "# Get test images and generate labels\n",
    "for im_path in glob.glob(\"./FoodSeg103/Images/ann_dir/test/*.png\"):\n",
    "    fileid = im_path.split(\"/\")[-1].split(\".\")[0] + \".jpg\"\n",
    "    im = imageio.imread(im_path)\n",
    "    im = np.unique(im).astype(int)\n",
    "    if(103 not in im):\n",
    "        labels = labelids.iloc[im][LABELS].to_numpy().squeeze().sum(axis=0)\n",
    "        labels[labels>0] = 1\n",
    "    labelsdict[fileid] = labels"
   ]
  },
  {
   "cell_type": "markdown",
   "metadata": {},
   "source": [
    "Generate labels from reduced segmentation masks"
   ]
  },
  {
   "cell_type": "code",
   "execution_count": 4,
   "metadata": {},
   "outputs": [],
   "source": [
    "# labelsdict = {}\n",
    "# # Get training images and generate labels\n",
    "# for im_path in glob.glob(\"FoodSeg103/Images/ann_dir/train/*.png\"):\n",
    "#     fileid = im_path.split(\"/\")[-1].split(\".\")[0] + \".jpg\"\n",
    "#     im = imageio.imread(im_path)\n",
    "#     im = np.unique(im).astype(int)\n",
    "#     labels = np.zeros(len(LABELS))\n",
    "#     for i in im:\n",
    "#         if(i!=0):\n",
    "#             labels[i-1] = 1\n",
    "#     fileid = im_path.split(\"/\")[-1].split(\".\")[0] + \".jpg\"\n",
    "#     labelsdict[fileid] = labels\n",
    "\n",
    "# # Get test images and generate labels\n",
    "# for im_path in glob.glob(\"./FoodSeg103/Images/ann_dir/test/*.png\"):\n",
    "#     fileid = im_path.split(\"/\")[-1].split(\".\")[0] + \".jpg\"\n",
    "#     im = imageio.imread(im_path)\n",
    "#     im = np.unique(im).astype(int)\n",
    "#     labels = np.zeros(len(LABELS))\n",
    "#     for i in im:\n",
    "#         if(i!=0):\n",
    "#             labels[i-1] = 1\n",
    "#     fileid = im_path.split(\"/\")[-1].split(\".\")[0] + \".jpg\"\n",
    "#     labelsdict[fileid] = labels"
   ]
  },
  {
   "cell_type": "code",
   "execution_count": 5,
   "metadata": {},
   "outputs": [
    {
     "ename": "IndexError",
     "evalue": "index 9 is out of bounds for axis 0 with size 8",
     "output_type": "error",
     "traceback": [
      "\u001b[0;31m---------------------------------------------------------------------------\u001b[0m",
      "\u001b[0;31mIndexError\u001b[0m                                Traceback (most recent call last)",
      "\u001b[1;32m/nobackup/hli5/FoodCV/103label_generator.ipynb Cell 6'\u001b[0m in \u001b[0;36m<cell line: 1>\u001b[0;34m()\u001b[0m\n\u001b[1;32m      <a href='vscode-notebook-cell://ssh-remote%2Bmanectric.luddy.indiana.edu/nobackup/hli5/FoodCV/103label_generator.ipynb#ch0000003vscode-remote?line=4'>5</a>\u001b[0m \u001b[39mfor\u001b[39;00m i \u001b[39min\u001b[39;00m im:\n\u001b[1;32m      <a href='vscode-notebook-cell://ssh-remote%2Bmanectric.luddy.indiana.edu/nobackup/hli5/FoodCV/103label_generator.ipynb#ch0000003vscode-remote?line=5'>6</a>\u001b[0m     \u001b[39mif\u001b[39;00m(i\u001b[39m!=\u001b[39m\u001b[39m0\u001b[39m):\n\u001b[0;32m----> <a href='vscode-notebook-cell://ssh-remote%2Bmanectric.luddy.indiana.edu/nobackup/hli5/FoodCV/103label_generator.ipynb#ch0000003vscode-remote?line=6'>7</a>\u001b[0m         labels[i\u001b[39m-\u001b[39m\u001b[39m1\u001b[39m] \u001b[39m=\u001b[39m \u001b[39m1\u001b[39m\n\u001b[1;32m      <a href='vscode-notebook-cell://ssh-remote%2Bmanectric.luddy.indiana.edu/nobackup/hli5/FoodCV/103label_generator.ipynb#ch0000003vscode-remote?line=7'>8</a>\u001b[0m fileid \u001b[39m=\u001b[39m im_path\u001b[39m.\u001b[39msplit(\u001b[39m\"\u001b[39m\u001b[39m/\u001b[39m\u001b[39m\"\u001b[39m)[\u001b[39m-\u001b[39m\u001b[39m1\u001b[39m]\u001b[39m.\u001b[39msplit(\u001b[39m\"\u001b[39m\u001b[39m.\u001b[39m\u001b[39m\"\u001b[39m)[\u001b[39m0\u001b[39m] \u001b[39m+\u001b[39m \u001b[39m\"\u001b[39m\u001b[39m.jpg\u001b[39m\u001b[39m\"\u001b[39m\n\u001b[1;32m      <a href='vscode-notebook-cell://ssh-remote%2Bmanectric.luddy.indiana.edu/nobackup/hli5/FoodCV/103label_generator.ipynb#ch0000003vscode-remote?line=8'>9</a>\u001b[0m labelsdict[fileid] \u001b[39m=\u001b[39m labels\n",
      "\u001b[0;31mIndexError\u001b[0m: index 9 is out of bounds for axis 0 with size 8"
     ]
    }
   ],
   "source": [
    "# for im_path in glob.glob(\"./SegCombined/Images/ann_dir/train/*.png\"):\n",
    "#     im = imageio.imread(im_path)\n",
    "#     im = np.unique(im)\n",
    "#     labels = np.zeros(len(LABELS))\n",
    "#     for i in im:\n",
    "#         if(i!=0):\n",
    "#             labels[i-1] = 1\n",
    "#     fileid = im_path.split(\"/\")[-1].split(\".\")[0] + \".jpg\"\n",
    "#     labelsdict[fileid] = labels\n",
    "# for im_path in glob.glob(\"./SegCombined/Images/ann_dir/test/*.png\"):\n",
    "#     im = imageio.imread(im_path)\n",
    "#     im = np.unique(im)\n",
    "#     labels = np.zeros(len(LABELS))\n",
    "#     for i in im:\n",
    "#         if(i!=0):\n",
    "#             labels[i-1] = 1\n",
    "#     fileid = im_path.split(\"/\")[-1].split(\".\")[0] + \".jpg\"\n",
    "#     labelsdict[fileid] = labels"
   ]
  },
  {
   "cell_type": "code",
   "execution_count": null,
   "metadata": {},
   "outputs": [],
   "source": [
    "with open('food103textures.csv', 'w') as f:\n",
    "    f.write(f\"filename,{','.join(LABELS)}\\n\")\n",
    "    for key in labelsdict.keys():\n",
    "        f.write(\"%s,%s\\n\"%(key,\",\".join(labelsdict[key].astype(str))))"
   ]
  },
  {
   "cell_type": "code",
   "execution_count": null,
   "metadata": {},
   "outputs": [],
   "source": [
    "all_trains = glob.glob('FoodSeg103/Images/img_dir/train/*')\n",
    "with open('./TextureDataset/train.txt', 'w') as f:\n",
    "    for i in range(len(all_trains)):\n",
    "        file_id = all_trains[i].split('/')[-1]\n",
    "        f.write(file_id)\n",
    "        if(i!=len(all_trains)-1):\n",
    "            f.write(\"\\n\")\n",
    "\n",
    "all_vals = glob.glob('FoodSeg103/Images/img_dir/test/*')\n",
    "with open('./TextureDataset/test.txt', 'w') as f:\n",
    "    for i in range(len(all_vals)):\n",
    "        file_id = all_vals[i].split('/')[-1]\n",
    "        f.write(file_id)\n",
    "        if(i!=len(all_vals)-1):\n",
    "            f.write(\"\\n\")"
   ]
  }
 ],
 "metadata": {
  "kernelspec": {
   "display_name": "Python 3.9.12 ('tf': conda)",
   "language": "python",
   "name": "python3"
  },
  "language_info": {
   "codemirror_mode": {
    "name": "ipython",
    "version": 3
   },
   "file_extension": ".py",
   "mimetype": "text/x-python",
   "name": "python",
   "nbconvert_exporter": "python",
   "pygments_lexer": "ipython3",
   "version": "3.9.12"
  },
  "orig_nbformat": 4,
  "vscode": {
   "interpreter": {
    "hash": "4a1ee56784bfef0f3362def99394c04c19f54cda40f73542cef6d61515001762"
   }
  }
 },
 "nbformat": 4,
 "nbformat_minor": 2
}
