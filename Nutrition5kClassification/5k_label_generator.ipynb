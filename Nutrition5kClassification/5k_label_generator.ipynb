{
 "cells": [
  {
   "cell_type": "code",
   "execution_count": 1,
   "metadata": {},
   "outputs": [
    {
     "name": "stdout",
     "output_type": "stream",
     "text": [
      "Number of dishes:  5006\n"
     ]
    }
   ],
   "source": [
    "with open(\"cafe1.txt\") as f:\n",
    "    mylist = f.read().splitlines()\n",
    "with open(\"cafe2.txt\") as f:\n",
    "    mylist2 = f.read().splitlines()\n",
    "dish_list = mylist+mylist2\n",
    "print(\"Number of dishes: \", len(dish_list))"
   ]
  },
  {
   "cell_type": "code",
   "execution_count": 32,
   "metadata": {},
   "outputs": [],
   "source": [
    "import pandas as pd\n",
    "import numpy as np\n",
    "import copy\n",
    "complete_labels = pd.read_csv(\"complete_labels.csv\")\n",
    "LABELS = [\"Meat\", \"Nuts/seeds\", \"Eggs\", \"Beans/lentils/peas\", \"Fruit\", \"Grain\", \"Vegetables\", \"Dairy\"]\n",
    "pdLabels = copy.deepcopy(LABELS)\n",
    "pdLabels.insert(0, \"dish_id\")"
   ]
  },
  {
   "cell_type": "markdown",
   "metadata": {},
   "source": [
    "GET MASSES BY GROUP"
   ]
  },
  {
   "cell_type": "code",
   "execution_count": 33,
   "metadata": {},
   "outputs": [
    {
     "name": "stdout",
     "output_type": "stream",
     "text": [
      "           dish_id       Meat  Nuts/seeds   Eggs  Beans/lentils/peas  \\\n",
      "0  dish_1562688426  71.000000         0.0    0.0                 0.0   \n",
      "1  dish_1561662054  84.200478         0.0    0.0                 0.0   \n",
      "2  dish_1560455030   0.000000         0.0    0.0                 0.0   \n",
      "3  dish_1565640549   0.000000         0.0    0.0                 0.0   \n",
      "4  dish_1563207364   0.000000         0.0  135.0                 0.0   \n",
      "\n",
      "       Fruit      Grain  Vegetables  Dairy  \n",
      "0   0.000000   0.000000   17.000000    0.0  \n",
      "1  18.067576  34.073011  136.393427    0.0  \n",
      "2   0.000000   0.000000  103.000000    0.0  \n",
      "3  12.305733   0.133758  125.490446    0.0  \n",
      "4  30.000000   0.000000  100.000000    0.0  \n"
     ]
    }
   ],
   "source": [
    "group_masses = pd.DataFrame(columns = pdLabels)\n",
    "dish_dict = {'dish_id': \"\"}\n",
    "for l in LABELS:\n",
    "    dish_dict[l] = 0\n",
    "\n",
    "for i in dish_list:\n",
    "    skip_dish = False\n",
    "    split_dish = i.split(\",\")\n",
    "    num_ingredients = (len(split_dish)-5)//7\n",
    "    for l in LABELS:\n",
    "        dish_dict[l] = 0\n",
    "    dish_dict['dish_id'] = split_dish[0]\n",
    "    for c in range(num_ingredients):\n",
    "        ingred_name = split_dish[7+c*7]\n",
    "        if(ingred_name == 'deprecated'):\n",
    "            skip_dish = True\n",
    "            break\n",
    "        ingred_labels = complete_labels.loc[complete_labels['food'] == ingred_name][LABELS].to_numpy().squeeze().astype('int64')\n",
    "        non_zeros = np.nonzero(ingred_labels)[0]\n",
    "        if(len(non_zeros) == 0):\n",
    "            continue\n",
    "        elif(len(non_zeros)>1):\n",
    "            skip_dish = True\n",
    "            break\n",
    "        else:\n",
    "            dish_dict[LABELS[non_zeros[0]]] += float(split_dish[8+c*7])\n",
    "        \n",
    "    if(skip_dish):\n",
    "        continue\n",
    "    else:\n",
    "        df_dict = pd.DataFrame([dish_dict])\n",
    "        group_masses = pd.concat([group_masses, df_dict], ignore_index=True)\n",
    "group_masses = group_masses.infer_objects()\n",
    "print(group_masses.head())"
   ]
  },
  {
   "cell_type": "code",
   "execution_count": 34,
   "metadata": {},
   "outputs": [],
   "source": [
    "group_masses.to_csv(\"group_masses.csv\", index=False)"
   ]
  },
  {
   "cell_type": "code",
   "execution_count": 36,
   "metadata": {},
   "outputs": [
    {
     "name": "stdout",
     "output_type": "stream",
     "text": [
      "              dish_id  Meat  Nuts/seeds  Eggs  Beans/lentils/peas  Fruit  \\\n",
      "0     dish_1562688426   1.0         0.0   0.0                 0.0    0.0   \n",
      "1     dish_1561662054   1.0         0.0   0.0                 0.0    1.0   \n",
      "2     dish_1560455030   0.0         0.0   0.0                 0.0    0.0   \n",
      "3     dish_1565640549   0.0         0.0   0.0                 0.0    1.0   \n",
      "4     dish_1563207364   0.0         0.0   1.0                 0.0    1.0   \n",
      "...               ...   ...         ...   ...                 ...    ...   \n",
      "4087  dish_1572453962   0.0         0.0   1.0                 0.0    0.0   \n",
      "4088  dish_1574455483   1.0         0.0   0.0                 0.0    0.0   \n",
      "4089  dish_1571934465   0.0         0.0   0.0                 0.0    1.0   \n",
      "4090  dish_1573073666   0.0         0.0   0.0                 0.0    0.0   \n",
      "4091  dish_1574359199   0.0         0.0   1.0                 0.0    0.0   \n",
      "\n",
      "      Grain  Vegetables  Dairy  \n",
      "0       0.0         1.0    0.0  \n",
      "1       1.0         1.0    0.0  \n",
      "2       0.0         1.0    0.0  \n",
      "3       0.0         1.0    0.0  \n",
      "4       0.0         1.0    0.0  \n",
      "...     ...         ...    ...  \n",
      "4087    0.0         1.0    0.0  \n",
      "4088    0.0         1.0    0.0  \n",
      "4089    0.0         0.0    0.0  \n",
      "4090    0.0         1.0    0.0  \n",
      "4091    1.0         1.0    0.0  \n",
      "\n",
      "[4092 rows x 9 columns]\n"
     ]
    }
   ],
   "source": [
    "group_masses.loc[:,LABELS] = group_masses.where(group_masses[LABELS]>5, other=0)\n",
    "group_masses.loc[:,LABELS] = group_masses.where(group_masses[LABELS]==0, other=1)\n",
    "\n",
    "print(group_masses)"
   ]
  },
  {
   "cell_type": "code",
   "execution_count": 37,
   "metadata": {},
   "outputs": [
    {
     "name": "stdout",
     "output_type": "stream",
     "text": [
      "              dish_id  Meat  Nuts/seeds  Eggs  Beans/lentils/peas  Fruit  \\\n",
      "0     dish_1562688426   1.0         0.0   0.0                 0.0    0.0   \n",
      "1     dish_1561662054   1.0         0.0   0.0                 0.0    1.0   \n",
      "2     dish_1560455030   0.0         0.0   0.0                 0.0    0.0   \n",
      "3     dish_1565640549   0.0         0.0   0.0                 0.0    1.0   \n",
      "4     dish_1563207364   0.0         0.0   1.0                 0.0    1.0   \n",
      "...               ...   ...         ...   ...                 ...    ...   \n",
      "4087  dish_1572453962   0.0         0.0   1.0                 0.0    0.0   \n",
      "4088  dish_1574455483   1.0         0.0   0.0                 0.0    0.0   \n",
      "4089  dish_1571934465   0.0         0.0   0.0                 0.0    1.0   \n",
      "4090  dish_1573073666   0.0         0.0   0.0                 0.0    0.0   \n",
      "4091  dish_1574359199   0.0         0.0   1.0                 0.0    0.0   \n",
      "\n",
      "      Grain  Vegetables  Dairy  \n",
      "0       0.0         1.0    0.0  \n",
      "1       1.0         1.0    0.0  \n",
      "2       0.0         1.0    0.0  \n",
      "3       0.0         1.0    0.0  \n",
      "4       0.0         1.0    0.0  \n",
      "...     ...         ...    ...  \n",
      "4087    0.0         1.0    0.0  \n",
      "4088    0.0         1.0    0.0  \n",
      "4089    0.0         0.0    0.0  \n",
      "4090    0.0         1.0    0.0  \n",
      "4091    1.0         1.0    0.0  \n",
      "\n",
      "[4092 rows x 9 columns]\n"
     ]
    }
   ],
   "source": [
    "print(group_masses)\n",
    "group_masses.to_csv(\"group_labels.csv\", index=False)"
   ]
  },
  {
   "cell_type": "markdown",
   "metadata": {},
   "source": [
    "GET LABELS BY GROUP"
   ]
  },
  {
   "cell_type": "code",
   "execution_count": 17,
   "metadata": {},
   "outputs": [
    {
     "name": "stdout",
     "output_type": "stream",
     "text": [
      "           dish_id Meat Nuts/seeds Eggs Beans/lentils/peas Fruit Grain  \\\n",
      "0  dish_1561662216    1          0    0                  0     1     1   \n",
      "1  dish_1562688426    1          0    0                  0     0     0   \n",
      "2  dish_1561662054    1          0    0                  0     1     1   \n",
      "3  dish_1562008979    1          0    0                  0     1     1   \n",
      "4  dish_1560455030    0          0    0                  0     0     0   \n",
      "\n",
      "  Vegetables Dairy  \n",
      "0          1     0  \n",
      "1          1     0  \n",
      "2          1     0  \n",
      "3          1     0  \n",
      "4          1     0  \n"
     ]
    }
   ],
   "source": [
    "group_labels = pd.DataFrame(columns = pdLabels)\n",
    "dish_dict = {'dish_id': \"\"}\n",
    "for l in LABELS:\n",
    "    dish_dict[l] = 0\n",
    "\n",
    "for i in dish_list:\n",
    "    skip_dish = False\n",
    "    split_dish = i.split(\",\")\n",
    "    num_ingredients = (len(split_dish)-6)//7\n",
    "    for l in LABELS:\n",
    "        dish_dict[l] = 0\n",
    "    dish_dict['dish_id'] = split_dish[0]\n",
    "    for c in range(num_ingredients):\n",
    "        ingred_name = split_dish[7+c*7]\n",
    "        if(ingred_name == 'deprecated'):\n",
    "            skip_dish = True\n",
    "            break\n",
    "        ingred_labels = complete_labels.loc[complete_labels['food'] == ingred_name][LABELS].to_numpy().squeeze().astype('int64')\n",
    "        non_zeros = np.nonzero(ingred_labels)[0]\n",
    "        if(len(non_zeros) == 0):\n",
    "            continue\n",
    "        else:\n",
    "            if(float(split_dish[8+c*7])>5):\n",
    "                for i in range(len(non_zeros)):\n",
    "                    if(dish_dict[LABELS[non_zeros[i]]] == 0):\n",
    "                        dish_dict[LABELS[non_zeros[i]]] = 1\n",
    "                \n",
    "    if(skip_dish):\n",
    "        continue\n",
    "    else:\n",
    "        df_dict = pd.DataFrame([dish_dict])\n",
    "        group_labels = pd.concat([group_labels, df_dict], ignore_index=True)\n",
    "\n",
    "print(group_labels.head())"
   ]
  },
  {
   "cell_type": "code",
   "execution_count": 22,
   "metadata": {},
   "outputs": [],
   "source": [
    "group_labels.to_csv(\"group_labels.csv\", index=False)"
   ]
  }
 ],
 "metadata": {
  "kernelspec": {
   "display_name": "Python 3.9.12 ('tf': conda)",
   "language": "python",
   "name": "python3"
  },
  "language_info": {
   "codemirror_mode": {
    "name": "ipython",
    "version": 3
   },
   "file_extension": ".py",
   "mimetype": "text/x-python",
   "name": "python",
   "nbconvert_exporter": "python",
   "pygments_lexer": "ipython3",
   "version": "3.9.12"
  },
  "orig_nbformat": 4,
  "vscode": {
   "interpreter": {
    "hash": "4a1ee56784bfef0f3362def99394c04c19f54cda40f73542cef6d61515001762"
   }
  }
 },
 "nbformat": 4,
 "nbformat_minor": 2
}
