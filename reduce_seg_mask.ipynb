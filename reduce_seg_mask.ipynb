{
 "cells": [
  {
   "cell_type": "code",
   "execution_count": 13,
   "metadata": {},
   "outputs": [
    {
     "name": "stdout",
     "output_type": "stream",
     "text": [
      "[0 0 0 0 0 0 0 0 0 0]\n"
     ]
    }
   ],
   "source": [
    "from PIL import Image\n",
    "import numpy as np\n",
    "import glob as glob\n",
    "import pandas as pd\n",
    "OFFSET = 104\n",
    "LABELS = [\"Meat\", \"Nuts/seeds\", \"Eggs\", \"Beans/lentils/peas\", \"Fruit\", \"Grain\", \"Vegetables\", \"Dairy\", \"Sauce/Spread\", \"Soup/Drink\"]\n",
    "LABELS_MAP = {}\n",
    "for i in range(len(LABELS)):\n",
    "    LABELS_MAP[LABELS[i]] = i+OFFSET+1\n",
    "labelids = pd.read_csv(\"Nutrition5kClassification/complete_labels.csv\",sep=',')\n",
    "print(labelids.iloc[1][LABELS].to_numpy().squeeze())\n",
    "\n"
   ]
  },
  {
   "cell_type": "markdown",
   "metadata": {},
   "source": [
    "REMAP SEGMENTATION MASKS TO FOOD GROUP LABELS"
   ]
  },
  {
   "cell_type": "code",
   "execution_count": 14,
   "metadata": {},
   "outputs": [],
   "source": [
    "splits = [\"train\", \"test\"]\n",
    "for s in splits:        \n",
    "    for im_path in glob.glob(f\"FoodSeg103/Images/ann_dir/{s}/*.png\"):\n",
    "        img = Image.open(im_path).convert('L')\n",
    "        arr = np.array(img.getdata(), dtype=np.uint8)\n",
    "        unique = np.unique(arr)\n",
    "        arr = np.resize(arr, (img.size[1], img.size[0]))\n",
    "        filename = im_path.split(\"/\")[-1]\n",
    "        skip_file = False\n",
    "        for ingred_id in unique:\n",
    "            labels = labelids.iloc[ingred_id][LABELS].to_numpy().squeeze()\n",
    "            nonzeros = np.nonzero(labels)[0]\n",
    "            if(len(nonzeros) >1):\n",
    "                skip_file = True\n",
    "                break\n",
    "            elif(len(nonzeros) ==0):\n",
    "                if(ingred_id!=0):\n",
    "                    skip_file = True\n",
    "                    break\n",
    "                arr[arr == ingred_id] = OFFSET\n",
    "            else:\n",
    "                arr[arr == ingred_id] = LABELS_MAP[LABELS[nonzeros[0]]]\n",
    "        if(skip_file):\n",
    "            continue\n",
    "        arr = arr-OFFSET\n",
    "        img = Image.fromarray(arr, mode='L')\n",
    "        newPath = f\"FoodSeg103/Images/ann_dir_edited/{s}/{filename}\"\n",
    "        img.save(newPath)"
   ]
  },
  {
   "cell_type": "code",
   "execution_count": 15,
   "metadata": {},
   "outputs": [],
   "source": [
    "import shutil\n",
    "\n",
    "for file in glob.glob(\"FoodSeg103/Images/ann_dir_edited/test/*.png\"):\n",
    "    file_name = file.split(\"/\")[-1].split(\".\")[0]+ \".jpg\"\n",
    "    dest = \"FoodSeg103/Images/img_dir_edited/test/\" + file_name\n",
    "    src = \"FoodSeg103/Images/img_dir/test/\" + file_name\n",
    "    shutil.copyfile(src, dest)"
   ]
  },
  {
   "cell_type": "code",
   "execution_count": 16,
   "metadata": {},
   "outputs": [],
   "source": [
    "for file in glob.glob(\"FoodSeg103/Images/ann_dir_edited/train/*.png\"):\n",
    "    file_name = file.split(\"/\")[-1].split(\".\")[0]+ \".jpg\"\n",
    "    dest = \"FoodSeg103/Images/img_dir_edited/train/\" + file_name\n",
    "    src = \"FoodSeg103/Images/img_dir/train/\" + file_name\n",
    "    shutil.copyfile(src, dest)"
   ]
  }
 ],
 "metadata": {
  "kernelspec": {
   "display_name": "Python 3.9.12 ('tf': conda)",
   "language": "python",
   "name": "python3"
  },
  "language_info": {
   "codemirror_mode": {
    "name": "ipython",
    "version": 3
   },
   "file_extension": ".py",
   "mimetype": "text/x-python",
   "name": "python",
   "nbconvert_exporter": "python",
   "pygments_lexer": "ipython3",
   "version": "3.9.12"
  },
  "orig_nbformat": 4,
  "vscode": {
   "interpreter": {
    "hash": "4a1ee56784bfef0f3362def99394c04c19f54cda40f73542cef6d61515001762"
   }
  }
 },
 "nbformat": 4,
 "nbformat_minor": 2
}
