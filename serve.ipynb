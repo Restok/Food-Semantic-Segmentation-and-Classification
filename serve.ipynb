{
 "cells": [
  {
   "cell_type": "code",
   "execution_count": null,
   "metadata": {},
   "outputs": [],
   "source": [
    "work_dir = \"/nobackup/hli5/FoodCV/work_dirs/deeplabv3plus_mobilenet_multi_food103_80k/\"\n",
    "config_file = work_dir + \"deeplabv3plus_mobilenet_multi_food103_80k.py\"\n",
    "checkpoint_file = work_dir + \"latest.pth\"\n",
    "output_folder = \"/nobac\""
   ]
  },
  {
   "cell_type": "code",
   "execution_count": null,
   "metadata": {},
   "outputs": [],
   "source": [
    "!python tools/torchserve/mmseg2torchserve.py ${CONFIG_FILE} ${CHECKPOINT_FILE} --output-folder ${MODEL_STORE} --model-name ${MODEL_NAME}"
   ]
  }
 ],
 "metadata": {
  "language_info": {
   "name": "python"
  },
  "orig_nbformat": 4
 },
 "nbformat": 4,
 "nbformat_minor": 2
}
