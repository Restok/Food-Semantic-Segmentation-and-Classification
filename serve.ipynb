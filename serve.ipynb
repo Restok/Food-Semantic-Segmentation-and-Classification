{
 "cells": [
  {
   "cell_type": "code",
   "execution_count": 1,
   "metadata": {},
   "outputs": [],
   "source": [
    "work_dir = \"/nobackup/hli5/FoodCV/work_dirs/deeplabv3plus_mobilenet_multi_combined_80k/\"\n",
    "config_file = work_dir + \"deeplabv3plus_mobilenet_multi_combined_80k.py\"\n",
    "checkpoint_file = work_dir + \"latest.pth\"\n",
    "output_folder = \"/nobackup/hli5/serve/model_store\"\n",
    "model_name = \"MobileNetV3L_multi\""
   ]
  },
  {
   "cell_type": "code",
   "execution_count": 2,
   "metadata": {},
   "outputs": [
    {
     "data": {
      "text/plain": [
       "'python mmsegmentation/tools/torchserve/mmseg2torchserve.py /nobackup/hli5/FoodCV/work_dirs/deeplabv3plus_mobilenet_multi_combined_80k/deeplabv3plus_mobilenet_multi_combined_80k.py /nobackup/hli5/FoodCV/work_dirs/deeplabv3plus_mobilenet_multi_combined_80k/latest.pth --output-folder /nobackup/hli5/serve/model_store --model-name MobileNetV3L_multi --force'"
      ]
     },
     "execution_count": 2,
     "metadata": {},
     "output_type": "execute_result"
    }
   ],
   "source": [
    "f\"python mmsegmentation/tools/torchserve/mmseg2torchserve.py {config_file} {checkpoint_file} --output-folder {output_folder} --model-name {model_name} --force\"\n"
   ]
  },
  {
   "cell_type": "markdown",
   "metadata": {},
   "source": []
  }
 ],
 "metadata": {
  "kernelspec": {
   "display_name": "Python 3.8.13 ('openmmlab': conda)",
   "language": "python",
   "name": "python3"
  },
  "language_info": {
   "codemirror_mode": {
    "name": "ipython",
    "version": 3
   },
   "file_extension": ".py",
   "mimetype": "text/x-python",
   "name": "python",
   "nbconvert_exporter": "python",
   "pygments_lexer": "ipython3",
   "version": "3.8.13"
  },
  "orig_nbformat": 4,
  "vscode": {
   "interpreter": {
    "hash": "2df9c0ab135fefd9e1d5771bb661da9405eccfda404ab5b76dcd4eec0f509788"
   }
  }
 },
 "nbformat": 4,
 "nbformat_minor": 2
}
